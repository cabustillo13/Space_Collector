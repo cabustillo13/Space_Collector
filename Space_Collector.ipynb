{
 "cells": [
  {
   "cell_type": "markdown",
   "metadata": {
    "id": "jGW39dGW31tz"
   },
   "source": [
    "# **SPACE COLLECTOR**\n",
    "\n",
    "\n",
    "---\n",
    "\n"
   ]
  },
  {
   "cell_type": "markdown",
   "metadata": {
    "id": "G6stQQpX6yfU"
   },
   "source": [
    "## Bibliography\n",
    "\n",
    "\n",
    "*   [Astropy](https://www.astropy.org/)\n",
    "*   [Celestrak](https://celestrak.com/) \n",
    "\n",
    "\n",
    "---\n",
    "\n",
    "\n"
   ]
  },
  {
   "cell_type": "markdown",
   "metadata": {
    "id": "OqwnzPeirrO5"
   },
   "source": [
    "### 1) Download requirements"
   ]
  },
  {
   "cell_type": "code",
   "execution_count": null,
   "metadata": {
    "colab": {
     "base_uri": "https://localhost:8080/"
    },
    "id": "_GfcJClWsDuA",
    "outputId": "9cb9ef02-b7f4-42bc-9d82-2a4461b21608"
   },
   "outputs": [
    {
     "name": "stdout",
     "output_type": "stream",
     "text": [
      "Requirement already satisfied: orbit-predictor in /usr/local/lib/python3.7/dist-packages (1.14.2)\n",
      "Requirement already satisfied: numpy>=1.8.2 in /usr/local/lib/python3.7/dist-packages (from orbit-predictor) (1.19.5)\n",
      "Requirement already satisfied: requests in /usr/local/lib/python3.7/dist-packages (from orbit-predictor) (2.23.0)\n",
      "Requirement already satisfied: sgp4>=2.5 in /usr/local/lib/python3.7/dist-packages (from orbit-predictor) (2.20)\n",
      "Requirement already satisfied: urllib3!=1.25.0,!=1.25.1,<1.26,>=1.21.1 in /usr/local/lib/python3.7/dist-packages (from requests->orbit-predictor) (1.24.3)\n",
      "Requirement already satisfied: chardet<4,>=3.0.2 in /usr/local/lib/python3.7/dist-packages (from requests->orbit-predictor) (3.0.4)\n",
      "Requirement already satisfied: certifi>=2017.4.17 in /usr/local/lib/python3.7/dist-packages (from requests->orbit-predictor) (2021.5.30)\n",
      "Requirement already satisfied: idna<3,>=2.5 in /usr/local/lib/python3.7/dist-packages (from requests->orbit-predictor) (2.10)\n"
     ]
    }
   ],
   "source": [
    "!pip install orbit-predictor"
   ]
  },
  {
   "cell_type": "markdown",
   "metadata": {
    "id": "4kNQzDyts8aX"
   },
   "source": [
    "### 2) Code Snippet to load .tle file"
   ]
  },
  {
   "cell_type": "code",
   "execution_count": 1,
   "metadata": {
    "id": "8lfrdTX1q9t4"
   },
   "outputs": [],
   "source": [
    "from orbit_predictor.sources import EtcTLESource\n",
    "import datetime\n",
    "# Analize for Argentina\n",
    "from orbit_predictor.locations import ARG\n",
    "\n",
    "\n",
    "# Dictionary-> key: name satellite and value: their .tle file \n",
    "sat_data = {\"FENGYUN-1C\": \"FENGYUN-1C.tle\",\n",
    "            \"COSMOS-970\": \"COSMOS-970.tle\", \n",
    "            \"RUBIN-8 & PSLV R/B\": \"RUBIN-8.tle\", \n",
    "            \"RUBIN-4 & SL-8 R/B\": \"RUBIN-4.tle\", \n",
    "            \"MICROSAT-R DEB\": \"MICROSAT-R.tle\", \n",
    "            \"ISS\": \"iss.tle\"}"
   ]
  },
  {
   "cell_type": "markdown",
   "metadata": {
    "id": "5g5zodxEAJWl"
   },
   "source": [
    "### 3) Get Latitude, Longitude and High"
   ]
  },
  {
   "cell_type": "code",
   "execution_count": 2,
   "metadata": {
    "colab": {
     "base_uri": "https://localhost:8080/"
    },
    "id": "pHuVBCYAx6jc",
    "outputId": "1911ba2a-b96e-4711-bce5-3bbf50f0bfed"
   },
   "outputs": [
    {
     "name": "stdout",
     "output_type": "stream",
     "text": [
      "(60.13207656880653, 4.618617807517948, 836.7860917213175)\n"
     ]
    }
   ],
   "source": [
    "# Name input folder name\n",
    "input_folder_name = \"./data_tle/\"\n",
    "\n",
    "# Define Year, Month, Day, Hour, Minute, Second\n",
    "t = datetime.datetime(2021, 10, 2, 8, 0, 0) \n",
    "\n",
    "source = EtcTLESource(filename=input_folder_name + \"FENGYUN-1C.tle\")\n",
    "predictor = source.get_predictor(\"FENGYUN-1C\")\n",
    "p = predictor.get_position(t)\n",
    "\n",
    "value = p.position_llh\n",
    "\n",
    "# Print Latitude, Longitude and High\n",
    "print(value)"
   ]
  },
  {
   "cell_type": "markdown",
   "metadata": {
    "id": "CdbNZAaJ-SZ8"
   },
   "source": [
    "### 3) Save data as timestamp"
   ]
  },
  {
   "cell_type": "code",
   "execution_count": null,
   "metadata": {
    "id": "5S8Huf2-_Iyr"
   },
   "outputs": [],
   "source": [
    "from datetime import date\n",
    "\n",
    "# Name output folder name\n",
    "output_folder_name = \"./results_tle/\"\n",
    "\n",
    "def save_data(satelite_name, data):\n",
    "  timestamp = output_folder_name + satelite_name + \"_\" + str(date.today()) + \".txt\"\n",
    "\n",
    "  with open(timestamp, \"w\") as f:\n",
    "      for s in data:\n",
    "          f.write(str(s) +\"\\n\")"
   ]
  },
  {
   "cell_type": "code",
   "execution_count": null,
   "metadata": {
    "colab": {
     "base_uri": "https://localhost:8080/"
    },
    "id": "biowKe5rq9uC",
    "outputId": "249dbcdf-5595-4691-8493-cb76d6a309e7"
   },
   "outputs": [
    {
     "name": "stdout",
     "output_type": "stream",
     "text": [
      "FENGYUN-1C\n",
      "(60.13207656880653, 4.618617807517948, 836.7860917213175)\n",
      "(-44.53252088511568, -27.857767634672086, 859.7056162450099)\n",
      "(-28.976715256774277, 158.64104009818266, 856.6941516335637)\n",
      "(74.33053820932263, 111.728137086841, 840.7594962228277)\n",
      "(-3.599428762353865, -41.96116310400933, 838.1604450670984)\n",
      "\n",
      "\n",
      "COSMOS-970\n",
      "(21.687556412296214, -22.285503884797034, 1135.7225196607442)\n",
      "(-63.199541549804366, 42.34007576840444, 984.2395333296527)\n",
      "(2.107116056883241, 153.72975925042678, 973.9205866667198)\n",
      "(62.59223791747585, -94.11093846686121, 1150.1202418949915)\n",
      "(-21.27613789879985, -32.35094448834086, 1067.5263763623097)\n",
      "\n",
      "\n",
      "RUBIN-8 & PSLV R/B\n",
      "(9.484520374566046, -148.02447759315854, 613.5329785266813)\n",
      "(-76.2296674398492, 57.66132621432861, 670.6316195269974)\n",
      "(31.520013663047102, 10.761109048199765, 642.4553304405126)\n",
      "(36.67522515763044, -165.91805319910625, 614.9317140415287)\n",
      "(-72.53729216158224, 154.45199337441625, 661.8464757038455)\n",
      "\n",
      "\n",
      "RUBIN-4 & SL-8 R/B\n",
      "(-11.600699501398331, 165.56523329714418, 671.9939472115957)\n",
      "(78.26878878546997, 19.87069013790276, 689.3310950562636)\n",
      "(-28.072142204834563, -35.48657658781466, 696.121389996576)\n",
      "(-41.85149978318164, 148.7389973341996, 685.8688920544591)\n",
      "(66.67428246253083, 114.53028125323893, 682.6180823146951)\n",
      "\n",
      "\n",
      "MICROSAT-R DEB\n",
      "(-69.57360276631259, 16.133336609777526, 1171.7165710198651)\n",
      "(34.66405381225191, -12.43943269011034, 463.8957618735931)\n",
      "(24.01261896838913, 167.06926043610042, 506.44260374714486)\n",
      "(-78.21168943760193, 125.76483002864148, 1186.4415526929006)\n",
      "(-0.3005570706104671, -30.65584892230121, 711.2976989294957)\n",
      "\n",
      "\n",
      "ISS\n",
      "(13.544212893694736, 81.85859789432699, 308.1564340187824)\n",
      "(32.78014335117916, -147.14283208308848, 312.65280244894893)\n",
      "(-49.58825685977538, -56.77026854037275, 326.43828317096086)\n",
      "(11.511874277570906, 57.27126881065237, 308.1053321005538)\n",
      "(34.53176306617985, -172.36207051755838, 312.923576705668)\n",
      "\n",
      "\n"
     ]
    }
   ],
   "source": [
    "# Name input folder name\n",
    "input_folder_name = \"./data_tle/\"\n",
    "\n",
    "# Define Year, Month, Day, Hour, Minute, Second\n",
    "t = datetime.datetime(2021, 10, 2, 8, 0, 0) \n",
    "\n",
    "for sat_name, sat_file in sat_data.items():\n",
    "  print(sat_name)\n",
    "  data = list()\n",
    "  for i in range(5):\n",
    "    source = EtcTLESource(filename=input_folder_name + sat_file)\n",
    "    predictor = source.get_predictor(sat_name)\n",
    "    p = predictor.get_position(t)\n",
    "\n",
    "    # Get Latitude, Longitude and High\n",
    "    value = p.position_llh\n",
    "    data.append(value) \n",
    "    print(value)\n",
    "\n",
    "    # Add delta time: 30 minutes\n",
    "    t += datetime.timedelta(0,0,0,0,30,0)\n",
    "  \n",
    "  # Save results\n",
    "  aux = sat_name.replace(\" \", \"_\")\n",
    "  save_data(aux.replace(\"/\", \"_\"), data)\n",
    "  print(\"\\n\")"
   ]
  },
  {
   "cell_type": "markdown",
   "metadata": {
    "id": "0NvlWwvLBYyG"
   },
   "source": [
    "### 4) When will be the ISS over Argentina?"
   ]
  },
  {
   "cell_type": "markdown",
   "metadata": {
    "id": "ICPCj4xtCPh6"
   },
   "source": [
    "#### 4.1) Get the date when the object will pass again"
   ]
  },
  {
   "cell_type": "code",
   "execution_count": null,
   "metadata": {
    "colab": {
     "base_uri": "https://localhost:8080/"
    },
    "id": "rVAmcIxGBbCB",
    "outputId": "fbe477ca-4287-4c38-ef2a-2395dedcc882"
   },
   "outputs": [
    {
     "data": {
      "text/plain": [
       "<PredictedPass ISS over ARG on 2021-10-03 03:44:43.091727>"
      ]
     },
     "execution_count": 6,
     "metadata": {},
     "output_type": "execute_result"
    }
   ],
   "source": [
    "predictor.get_next_pass(ARG)"
   ]
  },
  {
   "cell_type": "markdown",
   "metadata": {
    "id": "y_yrxAchC5ln"
   },
   "source": [
    "#### 4.2) Get more data: Position, date, velocity and error.\n"
   ]
  },
  {
   "cell_type": "code",
   "execution_count": null,
   "metadata": {
    "colab": {
     "base_uri": "https://localhost:8080/"
    },
    "id": "bxOBeFa_B2ht",
    "outputId": "6b5b5b62-e6af-4379-e980-d15939efb21b"
   },
   "outputs": [
    {
     "name": "stdout",
     "output_type": "stream",
     "text": [
      "Position(when_utc=datetime.datetime(2021, 10, 3, 3, 44, 43, 91727), position_ecef=(640.2092974688758, -5023.6289959268415, -4372.651478555741), velocity_ecef=(6.640646273837679, -2.0608236294434175, 3.344207952642637), error_estimate=None)\n"
     ]
    }
   ],
   "source": [
    "predicted_pass = _\n",
    "position = predictor.get_position(predicted_pass.aos)\n",
    "print(position)"
   ]
  },
  {
   "cell_type": "markdown",
   "metadata": {
    "id": "AjWwiHx8Ce1n"
   },
   "source": [
    "#### 4.3) Can I see the ISS from this location?"
   ]
  },
  {
   "cell_type": "code",
   "execution_count": null,
   "metadata": {
    "colab": {
     "base_uri": "https://localhost:8080/"
    },
    "id": "xz-W_NlLB9Nq",
    "outputId": "d286fa21-2866-4c15-a41a-6155a176a41e"
   },
   "outputs": [
    {
     "data": {
      "text/plain": [
       "True"
      ]
     },
     "execution_count": 8,
     "metadata": {},
     "output_type": "execute_result"
    }
   ],
   "source": [
    "ARG.is_visible(position)"
   ]
  },
  {
   "cell_type": "markdown",
   "metadata": {},
   "source": [
    "### 5) When will be the other elements over Argentina?"
   ]
  },
  {
   "cell_type": "code",
   "execution_count": 22,
   "metadata": {
    "pycharm": {
     "name": "#%%\n"
    }
   },
   "outputs": [
    {
     "name": "stdout",
     "output_type": "stream",
     "text": [
      "FENGYUN-1C\n",
      "<PredictedPass FENGYUN-1C over ARG on 2021-10-03 22:12:22.692862>\n",
      "COSMOS-970\n",
      "<PredictedPass COSMOS-970 over ARG on 2021-10-03 14:52:52.107844>\n",
      "RUBIN-8 & PSLV R/B\n",
      "<PredictedPass RUBIN-8 & PSLV R/B over ARG on 2021-10-03 18:49:25.236748>\n",
      "RUBIN-4 & SL-8 R/B\n",
      "<PredictedPass RUBIN-4 & SL-8 R/B over ARG on 2021-10-03 17:01:45.700729>\n",
      "MICROSAT-R DEB\n",
      "<PredictedPass MICROSAT-R DEB over ARG on 2021-10-03 20:34:28.785650>\n",
      "ISS\n",
      "<PredictedPass ISS over ARG on 2021-10-03 18:24:55.847692>\n"
     ]
    }
   ],
   "source": [
    "# Name input folder name\n",
    "input_folder_name = \"./data_tle/\"\n",
    "\n",
    "# Define Year, Month, Day, Hour, Minute, Second\n",
    "t = datetime.datetime(2021, 10, 2, 8, 0, 0)\n",
    "\n",
    "for sat_name, sat_file in sat_data.items():\n",
    "    print(sat_name)\n",
    "\n",
    "    source = EtcTLESource(filename=input_folder_name + sat_file)\n",
    "    predictor = source.get_predictor(sat_name)\n",
    "    p = predictor.get_position(t)\n",
    "\n",
    "    print(predictor.get_next_pass(ARG))"
   ]
  }
 ],
 "metadata": {
  "colab": {
   "collapsed_sections": [],
   "name": "Space_Collector.ipynb",
   "provenance": []
  },
  "kernelspec": {
   "display_name": "Python 3 (ipykernel)",
   "language": "python",
   "name": "python3"
  },
  "language_info": {
   "codemirror_mode": {
    "name": "ipython",
    "version": 3
   },
   "file_extension": ".py",
   "mimetype": "text/x-python",
   "name": "python",
   "nbconvert_exporter": "python",
   "pygments_lexer": "ipython3",
   "version": "3.8.8"
  }
 },
 "nbformat": 4,
 "nbformat_minor": 1
}
